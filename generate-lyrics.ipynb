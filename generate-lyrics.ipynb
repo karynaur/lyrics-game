{
 "cells": [
  {
   "cell_type": "code",
   "execution_count": null,
   "metadata": {},
   "outputs": [],
   "source": [
    "!pip install transformers==\"4.0.0\""
   ]
  },
  {
   "cell_type": "code",
   "execution_count": null,
   "metadata": {
    "_cell_guid": "b1076dfc-b9ad-4769-8c92-a6c4dae69d19",
    "_uuid": "8f2839f25d086af736a60e9eeb907d3b93b6e0e5"
   },
   "outputs": [],
   "source": [
    "import csv\n",
    "import pandas as pd\n",
    "from fastai.text.all import *\n",
    "import torch\n",
    "from transformers import GPT2TokenizerFast, GPT2LMHeadModel\n",
    "import json"
   ]
  },
  {
   "cell_type": "code",
   "execution_count": null,
   "metadata": {},
   "outputs": [],
   "source": [
    "def tokenize(text):\n",
    "    toks = tokenizer.tokenize(text)\n",
    "    return tensor(tokenizer.convert_tokens_to_ids(toks))\n",
    "\n",
    "pretrained_weights = 'gpt2'\n",
    "tokenizer = GPT2TokenizerFast.from_pretrained(pretrained_weights)\n",
    "\n",
    "class TransformersTokenizer(Transform):\n",
    "    def __init__(self, tokenizer): self.tokenizer = tokenizer\n",
    "    def encodes(self, x): \n",
    "        return x if isinstance(x, Tensor) else tokenize(x)\n",
    "        \n",
    "    def decodes(self, x): return TitledStr(self.tokenizer.decode(x.cpu().numpy()))\n",
    "\n",
    "class DropOutput(Callback):\n",
    "    def after_pred(self):self.learn.pred=self.pred[0]\n"
   ]
  },
  {
   "cell_type": "code",
   "execution_count": null,
   "metadata": {},
   "outputs": [],
   "source": [
    "artists={'Justin Bieber':'beiber',\n",
    "        'Adele':'adele',\n",
    "        'Drake':'drake',\n",
    "        'The Weeknd':'weeknd',\n",
    "        'Ariana Grande':'ariana',\n",
    "        'Ed Sheeran':'edsheeran',\n",
    "        'Coldplay':'coldplay',\n",
    "        'Miley Cyrus':'miley',\n",
    "        'Backstreet Boys':'backstreet',\n",
    "        'Eminem':'eminem',\n",
    "        '21 Savage':'21savage',\n",
    "        'Linkin Park':'linkinpark',\n",
    "        '\\u200btwenty one pilots':'21pilots',\n",
    "        'Kanye West':'kanye',\n",
    "        'Taylor Swift':'taylor'}\n",
    "dic={\n",
    "    'Justin Bieber':['Love Yourself','Sorry','Baby','Purpose','Boyfriend','Nothing Like Us','Never Say Never'],\n",
    "    'Adele':['Hello','Someone Like You','All I Ask','When We Were Young','Rolling in the Deep','Skyfall','Daydreamer'] ,\n",
    "    'Drake':['God’s Plan','In My Feelings','Hotline Bling','One Dance','Nice For What','Hold On, We’re Going Home','Die In Your Arms'] ,\n",
    "    'The Weeknd':['Starboy','Can’t Feel My Face','Call Out My Name','Reminder','Often','Feel It Coming','Wicked Games'] ,\n",
    "    'Ariana Grande':['thank u, next','7 rings','God is a woman','no tears left to cry','Dangerous Woman','breathin','Bad Decisions'] ,\n",
    "    'Ed Sheeran':['Shape of You','Perfect','Castle on the Hill','Happier','Photograph','Galway Girl','Nina'] ,\n",
    "    'Coldplay':['The Scientist','Viva La Vida','Kaleidoscope','Yellow','Hymn for the Weekend','A Sky Full of Stars','Hypnotised'] ,\n",
    "    'Miley Cyrus':['Malibu','Wrecking Ball','We Can’t Stop','Slide Away','Mother’s Daughter','Adore You','Party in the U.S.A.'] ,\n",
    "    'Backstreet Boys':['I Want It That Way','Don’t Go Breaking My Heart','As Long As You Love Me','Everybody (Backstreet’s Back)','I’ll Never Break Your Heart','What Makes You Different (Makes You Beautiful)','OK'] ,\n",
    "    'Eminem':['Rap God','The Monster','Lose Yourself','Lucky You','Stan','Love the Way You Lie','The Real Slim Shady'] ,\n",
    "    '21 Savage':['Bank Account','a lot','Red Opps','ball w/o you','can’t leave without it','monster','Numb'] ,\n",
    "    'Linkin Park':['Heavy','In the End','One More Light','Numb','Battle Symphony','Good Goodbye','CASTLE OF GLASS'] ,\n",
    "    '\\u200btwenty one pilots':['Heathens','Stressed Out','Ride','Chlorine','Nico and the Niners','Car Radio','Tear in My Heart'] ,\n",
    "    'Kanye West':['Mercy','Father Stretch My Hands, Pt. 1','Ultralight Beam','Monster','West Bound 2','New Slaves','Blood on the Leaves'],\n",
    "    'Taylor Swift':['Shake It Off','Blank Space','Bad Blood','Look What You Made Me Do','Gorgeous','Style']}"
   ]
  },
  {
   "cell_type": "code",
   "execution_count": null,
   "metadata": {},
   "outputs": [],
   "source": [
    "song=[]\n",
    "for i in dic:\n",
    "    for k in dic[i]:\n",
    "        song.append(k)\n"
   ]
  },
  {
   "cell_type": "code",
   "execution_count": null,
   "metadata": {},
   "outputs": [],
   "source": [
    "with open('/kaggle/input/d/adityasrinivasmenon/lyrics-models/genius.csv',encoding=\"utf8\") as f:\n",
    "    reader = csv.reader(f)\n",
    "    data = list(reader)\n",
    "data[7]"
   ]
  },
  {
   "cell_type": "code",
   "execution_count": null,
   "metadata": {},
   "outputs": [],
   "source": [
    "def batch(lyrics):\n",
    "    prompt=''\n",
    "    if lyrics[0]=='\\n':\n",
    "        count=-1\n",
    "    else: count=0\n",
    "    for i in range(len(lyrics)):\n",
    "        prompt+=lyrics[i]\n",
    "        if lyrics[i-1]=='\\n' and lyrics[i]=='\\n':\n",
    "            \n",
    "            continue\n",
    "        if lyrics[i]=='\\n':\n",
    "            count+=1\n",
    "        if count==4:\n",
    "            break\n",
    "    return prompt.replace('\\n\\n','\\n')\n",
    "\n",
    "def countns(lyrics):\n",
    "    count=0\n",
    "    for i in range(len(lyrics)):\n",
    "        if lyrics[i]=='\\n':\n",
    "            count+=1\n",
    "    return count\n",
    "\n",
    "def linebreak(lyrics):\n",
    "    for i in range(len(lyrics)):\n",
    "        if lyrics[i]=='\\n':\n",
    "            return i+1\n",
    "        \n",
    "def extract_prompt(lyrics):\n",
    "    if lyrics[0]=='\\n':\n",
    "        count=-1\n",
    "    else: count=0\n",
    "    for i in range(len(lyrics)):\n",
    "        if lyrics[i]=='\\n':\n",
    "            count+=1\n",
    "        if count==2:break\n",
    "    return i+1\n",
    "  \n",
    "def extract_preds(lyrics):\n",
    "    if lyrics[0]=='\\n':\n",
    "        count=-1\n",
    "    else: count=0\n",
    "    for i in range(len(lyrics)):\n",
    "        if lyrics[i-1]=='\\n' and lyrics[i]=='\\n':\n",
    "            \n",
    "            continue\n",
    "        if lyrics[i]=='\\n':\n",
    "            count+=1\n",
    "        if count==5:break\n",
    "    return i+1"
   ]
  },
  {
   "cell_type": "code",
   "execution_count": null,
   "metadata": {},
   "outputs": [],
   "source": [
    "device=torch.device(\"cuda\" if torch.cuda.is_available() else \"cpu\")\n",
    "device"
   ]
  },
  {
   "cell_type": "code",
   "execution_count": null,
   "metadata": {},
   "outputs": [],
   "source": [
    "dataset=[]\n",
    "\n",
    "for k in data[1:]:\n",
    "    if k[1] in song:\n",
    "        dataset.append(k)\n",
    "        prompts=[]\n",
    "        generate=[]\n",
    "        n=countns(k[2])\n",
    "        string=k[2]\n",
    "        learn=load_learner('/kaggle/input/d/adityasrinivasmenon/lyrics-models/{}.pkl'.format(artists[k[0]]))\n",
    "        learn.model.to(device)\n",
    "        print('/kaggle/input/d/adityasrinivasmenon/lyrics-models/{}.pkl'.format(artists[k[0]]))\n",
    "        for j in range(n-4):\n",
    "            try:\n",
    "                p=batch(string)\n",
    "                br=linebreak(p)\n",
    "                string=string[br:]\n",
    "\n",
    "                pr=p[:extract_prompt(p)]\n",
    "                prompt_ids = tokenizer.encode(pr)\n",
    "                inp = tensor(prompt_ids)[None].cuda()\n",
    "                count=0\n",
    "                while(True):\n",
    "                    preds=learn.model.generate(inp,\n",
    "                                 do_sample=True, \n",
    "                                 max_length=65, \n",
    "                                 min_length=5,\n",
    "                                 top_k=40,\n",
    "                                 num_return_sequences=1)\n",
    "\n",
    "                    g=tokenizer.decode(preds[0].cpu().tolist())\n",
    "                    g=g[:extract_preds(g)].replace(\"\\\"\\\"\",\"\").replace(\"\\\"\",\"\").replace(\"\\n\\n\",\"\\n\").replace(\"\\n\\n\",\"\\n\")\n",
    "                    count+=1\n",
    "                    if countns(g)>=4 or count==10:break\n",
    "\n",
    "\n",
    "                generate.append(g)\n",
    "                prompts.append(p)\n",
    "\n",
    "            except IndexError:break\n",
    "        dataset[dataset.index(k)].pop()       \n",
    "        dataset[dataset.index(k)].append(prompts)\n",
    "        dataset[dataset.index(k)].append(generate)\n",
    "        \n",
    "        \n",
    "        del learn.model\n",
    "        torch.cuda.empty_cache()\n",
    "        \n",
    "with open('lyrics.json', 'w') as json_file:\n",
    "    json.dump(dataset, json_file)"
   ]
  },
  {
   "cell_type": "code",
   "execution_count": null,
   "metadata": {},
   "outputs": [],
   "source": [
    "with open('/kaggle/working/lyrics.json') as f:\n",
    "    data = json.load(f)"
   ]
  }
 ],
 "metadata": {
  "kernelspec": {
   "display_name": "Python 3",
   "language": "python",
   "name": "python3"
  },
  "language_info": {
   "codemirror_mode": {
    "name": "ipython",
    "version": 3
   },
   "file_extension": ".py",
   "mimetype": "text/x-python",
   "name": "python",
   "nbconvert_exporter": "python",
   "pygments_lexer": "ipython3",
   "version": "3.8.5"
  }
 },
 "nbformat": 4,
 "nbformat_minor": 4
}
