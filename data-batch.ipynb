{
 "cells": [
  {
   "cell_type": "code",
   "execution_count": 1,
   "metadata": {},
   "outputs": [
    {
     "name": "stderr",
     "output_type": "stream",
     "text": [
      "/home/karynaur/.local/lib/python3.8/site-packages/torch/cuda/__init__.py:52: UserWarning: CUDA initialization: Found no NVIDIA driver on your system. Please check that you have an NVIDIA GPU and installed a driver from http://www.nvidia.com/Download/index.aspx (Triggered internally at  /pytorch/c10/cuda/CUDAFunctions.cpp:100.)\n",
      "  return torch._C._cuda_getDeviceCount() > 0\n"
     ]
    }
   ],
   "source": [
    "import csv\n",
    "import pandas as pd\n",
    "from fastai.text.all import *\n",
    "import torch\n",
    "from transformers import GPT2TokenizerFast, GPT2LMHeadModel\n",
    "import json"
   ]
  },
  {
   "cell_type": "code",
   "execution_count": 2,
   "metadata": {},
   "outputs": [],
   "source": [
    "a=['1','2',['1','2'],['1','2']]\n",
    "b=json.dumps(a)\n",
    "c=json.loads(b)\n",
    "with open('test.json', 'w') as json_file:\n",
    "    json.dump(b, json_file)"
   ]
  },
  {
   "cell_type": "code",
   "execution_count": 3,
   "metadata": {},
   "outputs": [
    {
     "data": {
      "text/plain": [
       "Index(['Artist', 'Song', 'Lyrics'], dtype='object')"
      ]
     },
     "execution_count": 3,
     "metadata": {},
     "output_type": "execute_result"
    }
   ],
   "source": [
    "with open('data/genius.csv',encoding=\"utf8\",errors='ignore') as f:\n",
    "    df=pd.read_csv(f)\n",
    "df.keys()"
   ]
  },
  {
   "cell_type": "code",
   "execution_count": 4,
   "metadata": {},
   "outputs": [
    {
     "data": {
      "text/plain": [
       "(845, 3)"
      ]
     },
     "execution_count": 4,
     "metadata": {},
     "output_type": "execute_result"
    }
   ],
   "source": [
    "df.shape"
   ]
  },
  {
   "cell_type": "code",
   "execution_count": 5,
   "metadata": {},
   "outputs": [],
   "source": [
    "pretrained_weights = 'gpt2'\n",
    "tokenizer = GPT2TokenizerFast.from_pretrained(pretrained_weights)"
   ]
  },
  {
   "cell_type": "code",
   "execution_count": 6,
   "metadata": {},
   "outputs": [],
   "source": [
    "def tokenize(text):\n",
    "    toks = tokenizer.tokenize(text)\n",
    "    return tensor(tokenizer.convert_tokens_to_ids(toks))\n",
    "\n",
    "\n",
    "\n",
    "class TransformersTokenizer(Transform):\n",
    "    def __init__(self, tokenizer): self.tokenizer = tokenizer\n",
    "    def encodes(self, x): \n",
    "        return x if isinstance(x, Tensor) else tokenize(x)\n",
    "        \n",
    "    def decodes(self, x): return TitledStr(self.tokenizer.decode(x.cpu().numpy()))\n",
    "\n",
    "class DropOutput(Callback):\n",
    "    def after_pred(self):self.learn.pred=self.pred[0]\n"
   ]
  },
  {
   "cell_type": "code",
   "execution_count": 7,
   "metadata": {},
   "outputs": [],
   "source": [
    "artists={'Justin Bieber':'beiber',\n",
    "        'Adele':'adele',\n",
    "        'Drake':'drake',\n",
    "        'The Weeknd':'weeknd',\n",
    "        'Ariana Grande':'ariana',\n",
    "        'Ed Sheeran':'edsheeran',\n",
    "        'Coldplay':'coldplay',\n",
    "        'Miley Cyrus':'miley',\n",
    "        'Backstreet Boys':'backstreet',\n",
    "        'Eminem':'eminem',\n",
    "        '21 Savage':'21savage',\n",
    "        'Linkin Park':'linkinpark',\n",
    "        '\\u200btwenty one pilots':'21pilots',\n",
    "        'Kanye West':'kanye',\n",
    "        'Taylor Swift':'taylor'}"
   ]
  },
  {
   "cell_type": "code",
   "execution_count": 55,
   "metadata": {},
   "outputs": [],
   "source": [
    "dic={\n",
    "    'Justin Bieber':['Love Yourself','Sorry','Baby','Purpose','Boyfriend','Nothing Like Us','Never Say Never'],\n",
    "    'Adele':['Hello','Someone Like You','All I Ask','When We Were Young','Rolling in the Deep','Skyfall','Daydreamer'] ,\n",
    "    'Drake':['God’s Plan','In My Feelings','Hotline Bling','One Dance','Nice For What','Hold On, We’re Going Home','Die In Your Arms'] ,\n",
    "    'The Weeknd':['Starboy','Can’t Feel My Face','Call Out My Name','Reminder','Often','Feel It Coming','Wicked Games'] ,\n",
    "    'Ariana Grande':['thank u, next','7 rings','God is a woman','no tears left to cry','Dangerous Woman','breathin','Bad Decisions'] ,\n",
    "    'Ed Sheeran':['Shape of You','Perfect','Castle on the Hill','Happier','Photograph','Galway Girl','Nina'] ,\n",
    "    'Coldplay':['The Scientist','Viva La Vida','Kaleidoscope','Yellow','Hymn for the Weekend','A Sky Full of Stars','Hypnotised'] ,\n",
    "    'Miley Cyrus':['Malibu','Wrecking Ball','We Can’t Stop','Slide Away','Mother’s Daughter','Adore You','Party in the U.S.A.'] ,\n",
    "    'Backstreet Boys':['I Want It That Way','Don’t Go Breaking My Heart','As Long As You Love Me','Everybody (Backstreet’s Back)','I’ll Never Break Your Heart','What Makes You Different (Makes You Beautiful)','OK'] ,\n",
    "    'Eminem':['Rap God','The Monster','Lose Yourself','Lucky You','Stan','Love the Way You Lie','The Real Slim Shady'] ,\n",
    "    '21 Savage':['Bank Account','a lot','Red Opps','ball w/o you','can’t leave without it','monster','Numb'] ,\n",
    "    'Linkin Park':['Heavy','In the End','One More Light','Numb','Battle Symphony','Good Goodbye','CASTLE OF GLASS'] ,\n",
    "    '\\u200btwenty one pilots':['Heathens','Stressed Out','Ride','Chlorine','Nico and the Niners','Car Radio','Tear in My Heart'] ,\n",
    "    'Kanye West':['Mercy','Father Stretch My Hands, Pt. 1','Ultralight Beam','Monster','West Bound 2','New Slaves','Blood on the Leaves'],\n",
    "    'Taylor Swift':['Shake It Off','Blank Space','Bad Blood','Look What You Made Me Do','Gorgeous','Style']\n",
    "}"
   ]
  },
  {
   "cell_type": "code",
   "execution_count": 95,
   "metadata": {},
   "outputs": [
    {
     "data": {
      "text/plain": [
       "'Sorry'"
      ]
     },
     "execution_count": 95,
     "metadata": {},
     "output_type": "execute_result"
    }
   ],
   "source": [
    "sng=[]\n",
    "for i in dic:\n",
    "    for k in dic[i]:\n",
    "        sng.append(k)\n"
   ]
  },
  {
   "cell_type": "code",
   "execution_count": 107,
   "metadata": {},
   "outputs": [
    {
     "data": {
      "text/plain": [
       "['Justin Bieber',\n",
       " 'I’ll Show You',\n",
       " \"My life is a movie and everyone's watching\\nSo let's get to the good part and past all the nonsense\\n\\nSometimes it's hard to do the right thing\\nWhen the pressure's coming down like lightning\\nIt's like they want me to be perfect\\nWhen they don't even know that I'm hurting\\n\\nCause life's not easy, I'm not made out of steel\\nDon't forget that I'm human, don't forget that I'm real\\nAct like you know me, but you never will\\nThere's one thing that I know for sure\\nI'll show you\\nI'll show you\\nI'll show you\\nI'll show you\\n\\nI've got to learn things, learn them the hard way\\nGot to see what it feels like, no matter what they say\\n\\nSometimes it's hard to do the right thing\\nWhen the pressure's coming down like lightning\\nIt's like they want me to be perfect\\nWhen they don't even know that I'm hurting\\n\\nCause life's not easy, I'm not made out of steel\\nDon't forget that I'm human, don't forget that I'm real\\nAct like you know me, but you never will\\nThere's one thing that I know for sure\\nI'll show you\\nI'll show you\\nI'll show you\\nI'll show you\\nCause life's not easy, I'm not made out of steel\\nDon't forget that I'm human, don't forget that I'm real\\nAct like you know me, but you never will\\nThere's one thing that I know for sure\\n\\nI'll show you\\nI'll show you\"]"
      ]
     },
     "execution_count": 107,
     "metadata": {},
     "output_type": "execute_result"
    }
   ],
   "source": [
    "with open('data/genius.csv',encoding=\"utf8\") as f:\n",
    "    reader = csv.reader(f)\n",
    "    dataset = list(reader)\n",
    "data=list(dataset)\n",
    "data[7]"
   ]
  },
  {
   "cell_type": "code",
   "execution_count": 16,
   "metadata": {},
   "outputs": [],
   "source": [
    "\n",
    "def batch(lyrics):\n",
    "    prompt=''\n",
    "    if lyrics[0]=='\\n':\n",
    "        count=-1\n",
    "    else: count=0\n",
    "    for i in range(len(lyrics)):\n",
    "        prompt+=lyrics[i]\n",
    "        if lyrics[i-1]=='\\n' and lyrics[i]=='\\n':\n",
    "            \n",
    "            continue\n",
    "        if lyrics[i]=='\\n':\n",
    "            count+=1\n",
    "        if count==4:\n",
    "            break\n",
    "    return prompt.replace('\\n\\n','\\n')"
   ]
  },
  {
   "cell_type": "code",
   "execution_count": 17,
   "metadata": {},
   "outputs": [
    {
     "data": {
      "text/plain": [
       "3"
      ]
     },
     "execution_count": 17,
     "metadata": {},
     "output_type": "execute_result"
    }
   ],
   "source": [
    "def countns(lyrics):\n",
    "    count=0\n",
    "    for i in range(len(lyrics)):\n",
    "        if lyrics[i]=='\\n':\n",
    "            count+=1\n",
    "    return count\n",
    "def linebreak(lyrics):\n",
    "    for i in range(len(lyrics)):\n",
    "        if lyrics[i]=='\\n':\n",
    "            return i+1\n",
    "        \n",
    "countns('asdasd\\n\\n\\n')"
   ]
  },
  {
   "cell_type": "code",
   "execution_count": 44,
   "metadata": {},
   "outputs": [],
   "source": [
    "def extract_prompt(lyrics):\n",
    "    if lyrics[0]=='\\n':\n",
    "        count=-1\n",
    "    else: count=0\n",
    "    for i in range(len(lyrics)):\n",
    "        if lyrics[i]=='\\n':\n",
    "            count+=1\n",
    "        if count==2:break\n",
    "    return i+1\n",
    "  \n",
    "def extract_preds(lyrics):\n",
    "    if lyrics[0]=='\\n':\n",
    "        count=-1\n",
    "    else: count=0\n",
    "    for i in range(len(lyrics)):\n",
    "        if lyrics[i-1]=='\\n' and lyrics[i]=='\\n':\n",
    "            \n",
    "            continue\n",
    "        if lyrics[i]=='\\n':\n",
    "            count+=1\n",
    "        if count==5:break\n",
    "    return i+1\n",
    "\n",
    "\n",
    "  "
   ]
  },
  {
   "cell_type": "code",
   "execution_count": 96,
   "metadata": {},
   "outputs": [
    {
     "data": {
      "text/plain": [
       "['Artist', 'Song', 'Lyrics']"
      ]
     },
     "execution_count": 96,
     "metadata": {},
     "output_type": "execute_result"
    }
   ],
   "source": [
    "data[0]"
   ]
  },
  {
   "cell_type": "code",
   "execution_count": 1,
   "metadata": {},
   "outputs": [
    {
     "ename": "NameError",
     "evalue": "name 'data' is not defined",
     "output_type": "error",
     "traceback": [
      "\u001b[0;31m---------------------------------------------------------------------------\u001b[0m",
      "\u001b[0;31mNameError\u001b[0m                                 Traceback (most recent call last)",
      "\u001b[0;32m<ipython-input-1-12ab85334211>\u001b[0m in \u001b[0;36m<module>\u001b[0;34m\u001b[0m\n\u001b[1;32m      1\u001b[0m \u001b[0mdataset\u001b[0m\u001b[0;34m=\u001b[0m\u001b[0;34m[\u001b[0m\u001b[0;34m]\u001b[0m\u001b[0;34m\u001b[0m\u001b[0;34m\u001b[0m\u001b[0m\n\u001b[0;32m----> 2\u001b[0;31m \u001b[0;32mfor\u001b[0m \u001b[0mk\u001b[0m \u001b[0;32min\u001b[0m \u001b[0mdata\u001b[0m\u001b[0;34m[\u001b[0m\u001b[0;36m1\u001b[0m\u001b[0;34m:\u001b[0m\u001b[0;34m]\u001b[0m\u001b[0;34m:\u001b[0m\u001b[0;34m\u001b[0m\u001b[0;34m\u001b[0m\u001b[0m\n\u001b[0m\u001b[1;32m      3\u001b[0m     \u001b[0;32mif\u001b[0m \u001b[0mk\u001b[0m\u001b[0;34m[\u001b[0m\u001b[0;36m1\u001b[0m\u001b[0;34m]\u001b[0m \u001b[0;32min\u001b[0m \u001b[0msng\u001b[0m\u001b[0;34m:\u001b[0m\u001b[0;34m\u001b[0m\u001b[0;34m\u001b[0m\u001b[0m\n\u001b[1;32m      4\u001b[0m         \u001b[0mdataset\u001b[0m\u001b[0;34m.\u001b[0m\u001b[0mappend\u001b[0m\u001b[0;34m(\u001b[0m\u001b[0mk\u001b[0m\u001b[0;34m)\u001b[0m\u001b[0;34m\u001b[0m\u001b[0;34m\u001b[0m\u001b[0m\n\u001b[1;32m      5\u001b[0m         \u001b[0mprompts\u001b[0m\u001b[0;34m=\u001b[0m\u001b[0;34m[\u001b[0m\u001b[0;34m]\u001b[0m\u001b[0;34m\u001b[0m\u001b[0;34m\u001b[0m\u001b[0m\n",
      "\u001b[0;31mNameError\u001b[0m: name 'data' is not defined"
     ]
    }
   ],
   "source": [
    "dataset=[]\n",
    "for k in data[1:]:\n",
    "    if k[1] in sng:\n",
    "        dataset.append(k)\n",
    "        prompts=[]\n",
    "        generate=[]\n",
    "        n=countns(k[2])\n",
    "        string=k[2]\n",
    "        learn=load_learner('models/{}.pkl'.format(artists[k[0]]))\n",
    "        print('models/{}.pkl'.format(artists[k[0]]))\n",
    "        for j in range(n-4):\n",
    "            try:\n",
    "                p=batch(string)\n",
    "                br=linebreak(p)\n",
    "                string=string[br:]\n",
    "\n",
    "                pr=p[:extract_prompt(p)]\n",
    "                prompt_ids = tokenizer.encode(pr)\n",
    "                inp = tensor(prompt_ids)[None]\n",
    "                count=0\n",
    "                while(True):\n",
    "                    preds=learn.model.generate(inp,\n",
    "                                 do_sample=True, \n",
    "                                 max_length=65, \n",
    "                                 min_length=5,\n",
    "                                 top_k=40,\n",
    "                                 num_return_sequences=1)\n",
    "\n",
    "                    g=tokenizer.decode(preds[0].cpu().tolist())\n",
    "                    g=g[:extract_preds(g)].replace(\"\\\"\\\"\",\"\").replace(\"\\\"\",\"\").replace(\"\\n\\n\",\"\\n\").replace(\"\\n\\n\",\"\\n\")\n",
    "                    count+=1\n",
    "                    if countns(g)>=4 or count==10:break\n",
    "\n",
    "\n",
    "                generate.append(g)\n",
    "                prompts.append(p)\n",
    "\n",
    "            except IndexError:break\n",
    "        dataset.pop()\n",
    "        dataset.append(prompts)\n",
    "        dataset.append(generate)\n",
    "with open('lyrics.json', 'w') as json_file:\n",
    "    json.dump(data, json_file)"
   ]
  },
  {
   "cell_type": "code",
   "execution_count": 104,
   "metadata": {},
   "outputs": [
    {
     "data": {
      "text/plain": [
       "[['Drake',\n",
       "  'Hotline Bling',\n",
       "  \"You used to call me on my\\nYou used to, you used to\\nYeah\\n\\nYou used to call me on my cell phone\\nLate night when you need my love\\nCall me on my cell phone\\nLate night when you need my love\\nAnd I know when that hotline bling\\nThat can only mean one thing\\nI know when that hotline bling\\nThat can only mean one thing\\n\\nEver since I left the city, you\\nGot a reputation for yourself now\\nEverybody knows and I feel left out\\nGirl, you got me down, you got me stressed out\\n‘Cause ever since I left the city, you\\nStarted wearing less and goin' out more\\nGlasses of champagne out on the dance floor\\nHangin' with some girls I've never seen before\\n\\nYou used to call me on my cell phone\\nLate night when you need my love\\nCall me on my cell phone\\nLate night when you need my love\\nI know when that hotline bling\\nThat can only mean one thing\\nI know when that hotline bling\\nThat can only mean one thing\\n\\nEver since I left the city, you, you, you\\nYou and me, we just don't get along\\nYou make me feel like I did you wrong\\nGoing places where you don't belong\\nEver since I left the city, you\\nYou got exactly what you asked for\\nRunning out of pages in your passport\\nHangin' with some girls I've never seen before\\n\\nYou used to call me on my cell phone\\nLate night when you need my love\\nCall me on my cell phone\\nLate night when you need my love\\nAnd I know when that hotline bling\\nThat can only mean one thing\\nI know when that hotline bling\\nThat can only mean one thing\\n\\nThese days, all I do is\\nWonder if you're bendin' over backwards for someone else\\nWonder if you're rolling up a Backwoods for someone else\\nDoing things I taught you, gettin' nasty for someone else\\nYou don't need no one else\\nYou don't need nobody else, no\\nWhy you never alone?\\nWhy you always touching road?\\nUsed to always stay at home\\nBe a good girl, you was in the zone\\nYeah, you should just be yourself\\nRight now, you're someone else\\n\\nYou used to call me on my cell phone\\nLate night when you need my love\\nCall me on my cell phone\\nLate night when you need my love\\nAnd I know when that hotline bling\\nThat can only mean one thing\\nI know when that hotline bling\\nThat can only mean one thing\\n\\nEver since I left the city…\"],\n",
       " ['Drake',\n",
       "  'One Dance',\n",
       "  \"Baby, I like your style\\n\\nGrips on your waist, front way, back way\\nYou know that I don't play\\nStreets not safe but I never run away\\nEven when I'm away\\nOti, oti\\nThere's never much love when we go OT\\nI pray to make it back in one piece\\nI pray, I pray\\n\\nThat's why I need a one dance\\nGot a Hennessy in my hand\\nOne more time 'fore I go\\nHigher powers taking a hold on me\\nI need a one dance\\nGot a Hennessy in my hand\\nOne more time 'fore I go\\nHigher powers taking a hold on me\\n\\nBaby, I like your style\\n\\nStrength and guidance\\nAll that I'm wishing for my friends\\nNobody makes it from my ends\\nI had to bust up the silence\\nYou know you gotta stick by me\\nSoon as you see the text, reply me\\nI don't wanna spend time fighting\\nWe've got no time\\n\\nAnd that's why I need a one dance\\nGot a Hennessy in my hand\\nOne more time 'fore I go\\nHigher powers taking a hold on me\\nI need a one dance\\nGot a Hennessy in my hand\\nOne more time 'fore I go\\nHigher powers taking a hold on me\\n\\nGot a pretty girl and she love me long time\\nWine it, wine it, very long time\\nOh yeah, very long time\\nBack up, back up, back up and wine it\\nBack up, back up and wine it, girl\\nBack up, back up, back up and wine it\\nOh yeah, very long time\\nBack, up, back up and wine it, girl\\n\\nTell me\\nI need to know, where do you wanna go?\\nCause if you're down, I'll take it slow\\nMake you lose control\\nWhere, where, where\\nWhere, where, where, where\\nOh yeah, very long time\\nWhere, where, where\\nBack, up, back up and wine it, girl\\nWhere, where, where, where\\nCause if you're down\\nBack up, back up and\\nCause if you're down\\nBack up, back up and\\nCause if you're down\\nBack up, back up and\\n\\nI need a one dance\\nGot a Hennessy in my hand\\nOne more time 'fore I go\\nHigher powers taking a hold on me\\nI need a one dance\\nGot a Hennessy in my hand\\nOne more time 'fore I go\\nHigher powers taking a hold on me\"]]"
      ]
     },
     "execution_count": 104,
     "metadata": {},
     "output_type": "execute_result"
    }
   ],
   "source": [
    "dataset=[]\n",
    "for k in data[101:103]:\n",
    "    dataset.append(k)\n",
    "dataset"
   ]
  },
  {
   "cell_type": "code",
   "execution_count": null,
   "metadata": {},
   "outputs": [],
   "source": []
  }
 ],
 "metadata": {
  "kernelspec": {
   "display_name": "Python 3",
   "language": "python",
   "name": "python3"
  },
  "language_info": {
   "codemirror_mode": {
    "name": "ipython",
    "version": 3
   },
   "file_extension": ".py",
   "mimetype": "text/x-python",
   "name": "python",
   "nbconvert_exporter": "python",
   "pygments_lexer": "ipython3",
   "version": "3.8.5"
  }
 },
 "nbformat": 4,
 "nbformat_minor": 4
}
