{
 "cells": [
  {
   "cell_type": "code",
   "execution_count": null,
   "metadata": {
    "_cell_guid": "b1076dfc-b9ad-4769-8c92-a6c4dae69d19",
    "_uuid": "8f2839f25d086af736a60e9eeb907d3b93b6e0e5"
   },
   "outputs": [],
   "source": [
    "#!git clone https://github.com/huggingface/transformers.git#\n"
   ]
  },
  {
   "cell_type": "code",
   "execution_count": null,
   "metadata": {},
   "outputs": [],
   "source": [
    "#pip install transformers==\"4.0.0\""
   ]
  },
  {
   "cell_type": "code",
   "execution_count": 1,
   "metadata": {},
   "outputs": [
    {
     "name": "stderr",
     "output_type": "stream",
     "text": [
      "/home/karynaur/.local/lib/python3.8/site-packages/torch/cuda/__init__.py:52: UserWarning: CUDA initialization: Found no NVIDIA driver on your system. Please check that you have an NVIDIA GPU and installed a driver from http://www.nvidia.com/Download/index.aspx (Triggered internally at  /pytorch/c10/cuda/CUDAFunctions.cpp:100.)\n",
      "  return torch._C._cuda_getDeviceCount() > 0\n"
     ]
    }
   ],
   "source": [
    "from fastai.text.all import *\n",
    "import torch\n",
    "from transformers import GPT2TokenizerFast, GPT2LMHeadModel\n",
    "import pandas as pd\n",
    "import glob"
   ]
  },
  {
   "cell_type": "code",
   "execution_count": null,
   "metadata": {},
   "outputs": [],
   "source": [
    "pretrained_weights = 'gpt2'\n",
    "tokenizer = GPT2TokenizerFast.from_pretrained(pretrained_weights)\n",
    "model = GPT2LMHeadModel.from_pretrained(pretrained_weights)"
   ]
  },
  {
   "cell_type": "code",
   "execution_count": null,
   "metadata": {},
   "outputs": [],
   "source": []
  },
  {
   "cell_type": "code",
   "execution_count": null,
   "metadata": {},
   "outputs": [],
   "source": [
    "ids = tokenizer.encode('This is an example of text, and')\n",
    "t = torch.LongTensor(ids)[None]\n",
    "preds = model.generate(t)\n",
    "tokenizer.decode(preds[0].numpy())\n"
   ]
  },
  {
   "cell_type": "code",
   "execution_count": 2,
   "metadata": {},
   "outputs": [
    {
     "ename": "FileNotFoundError",
     "evalue": "[Errno 2] No such file or directory: '/kaggle/input/dataforlyrics/21pilots/train.csv'",
     "output_type": "error",
     "traceback": [
      "\u001b[0;31m---------------------------------------------------------------------------\u001b[0m",
      "\u001b[0;31mFileNotFoundError\u001b[0m                         Traceback (most recent call last)",
      "\u001b[0;32m<ipython-input-2-86bb531ee67f>\u001b[0m in \u001b[0;36m<module>\u001b[0;34m\u001b[0m\n\u001b[0;32m----> 1\u001b[0;31m \u001b[0;32mwith\u001b[0m \u001b[0mopen\u001b[0m\u001b[0;34m(\u001b[0m\u001b[0;34m'/kaggle/input/dataforlyrics/21pilots/train.csv'\u001b[0m\u001b[0;34m,\u001b[0m \u001b[0mencoding\u001b[0m\u001b[0;34m=\u001b[0m\u001b[0;34m\"utf8\"\u001b[0m\u001b[0;34m,\u001b[0m \u001b[0merrors\u001b[0m\u001b[0;34m=\u001b[0m\u001b[0;34m'ignore'\u001b[0m\u001b[0;34m)\u001b[0m \u001b[0;32mas\u001b[0m \u001b[0mf\u001b[0m\u001b[0;34m:\u001b[0m\u001b[0;34m\u001b[0m\u001b[0;34m\u001b[0m\u001b[0m\n\u001b[0m\u001b[1;32m      2\u001b[0m     \u001b[0mtrain\u001b[0m\u001b[0;34m=\u001b[0m\u001b[0mpd\u001b[0m\u001b[0;34m.\u001b[0m\u001b[0mSeries\u001b[0m\u001b[0;34m(\u001b[0m\u001b[0mf\u001b[0m\u001b[0;34m,\u001b[0m\u001b[0mindex\u001b[0m\u001b[0;34m=\u001b[0m\u001b[0;32mNone\u001b[0m\u001b[0;34m)\u001b[0m\u001b[0;34m\u001b[0m\u001b[0;34m\u001b[0m\u001b[0m\n\u001b[1;32m      3\u001b[0m \u001b[0;32mwith\u001b[0m \u001b[0mopen\u001b[0m\u001b[0;34m(\u001b[0m\u001b[0;34m'/kaggle/input/dataforlyrics/21pilots/valid.csv'\u001b[0m\u001b[0;34m,\u001b[0m \u001b[0mencoding\u001b[0m\u001b[0;34m=\u001b[0m\u001b[0;34m\"utf8\"\u001b[0m\u001b[0;34m,\u001b[0m \u001b[0merrors\u001b[0m\u001b[0;34m=\u001b[0m\u001b[0;34m'ignore'\u001b[0m\u001b[0;34m)\u001b[0m \u001b[0;32mas\u001b[0m \u001b[0mf\u001b[0m\u001b[0;34m:\u001b[0m\u001b[0;34m\u001b[0m\u001b[0;34m\u001b[0m\u001b[0m\n\u001b[1;32m      4\u001b[0m     \u001b[0mvalid\u001b[0m\u001b[0;34m=\u001b[0m\u001b[0mpd\u001b[0m\u001b[0;34m.\u001b[0m\u001b[0mSeries\u001b[0m\u001b[0;34m(\u001b[0m\u001b[0mf\u001b[0m\u001b[0;34m,\u001b[0m\u001b[0mindex\u001b[0m\u001b[0;34m=\u001b[0m\u001b[0;32mNone\u001b[0m\u001b[0;34m)\u001b[0m\u001b[0;34m\u001b[0m\u001b[0;34m\u001b[0m\u001b[0m\n",
      "\u001b[0;31mFileNotFoundError\u001b[0m: [Errno 2] No such file or directory: '/kaggle/input/dataforlyrics/21pilots/train.csv'"
     ]
    }
   ],
   "source": [
    "with open('/kaggle/input/dataforlyrics/21pilots/train.csv', encoding=\"utf8\", errors='ignore') as f:\n",
    "    train=pd.Series(f,index=None)\n",
    "with open('/kaggle/input/dataforlyrics/21pilots/valid.csv', encoding=\"utf8\", errors='ignore') as f:\n",
    "    valid=pd.Series(f,index=None)"
   ]
  },
  {
   "cell_type": "code",
   "execution_count": null,
   "metadata": {},
   "outputs": [],
   "source": [
    "train.shape,valid.shape\n"
   ]
  },
  {
   "cell_type": "code",
   "execution_count": null,
   "metadata": {},
   "outputs": [],
   "source": [
    "train=train.dropna()\n",
    "valid=valid.dropna()\n",
    "train.head(),valid.head()"
   ]
  },
  {
   "cell_type": "code",
   "execution_count": null,
   "metadata": {},
   "outputs": [],
   "source": [
    "all_texts = np.concatenate([train.values, valid.values])\n",
    "\n",
    "all_texts.shape"
   ]
  },
  {
   "cell_type": "code",
   "execution_count": null,
   "metadata": {},
   "outputs": [],
   "source": [
    "def tokenize(text):\n",
    "    toks = tokenizer.tokenize(text)\n",
    "    return tensor(tokenizer.convert_tokens_to_ids(toks))\n",
    "\n",
    "tokenized = [tokenize(t) for t in progress_bar(all_texts)]\n",
    "\n",
    "class TransformersTokenizer(Transform):\n",
    "    def __init__(self, tokenizer): self.tokenizer = tokenizer\n",
    "    def encodes(self, x): \n",
    "        return x if isinstance(x, Tensor) else tokenize(x)\n",
    "        \n",
    "    def decodes(self, x): return TitledStr(self.tokenizer.decode(x.cpu().numpy()))"
   ]
  },
  {
   "cell_type": "code",
   "execution_count": null,
   "metadata": {},
   "outputs": [],
   "source": [
    "bs,sl = 4,256\n",
    "splits = [range_of(train), list(range(len(train), len(all_texts)))]\n",
    "tls = TfmdLists(tokenized, TransformersTokenizer(tokenizer), splits=splits, dl_type=LMDataLoader)\n",
    "dls = tls.dataloaders(bs=bs, seq_len=sl)"
   ]
  },
  {
   "cell_type": "code",
   "execution_count": null,
   "metadata": {},
   "outputs": [],
   "source": [
    "dls.show_batch(max_n=2)"
   ]
  },
  {
   "cell_type": "code",
   "execution_count": null,
   "metadata": {},
   "outputs": [],
   "source": [
    "class DropOutput(Callback):\n",
    "    def after_pred(self): self.learn.pred = self.pred[0]"
   ]
  },
  {
   "cell_type": "code",
   "execution_count": null,
   "metadata": {},
   "outputs": [],
   "source": [
    "learn = Learner(dls, model, loss_func=CrossEntropyLossFlat(), cbs=[DropOutput], metrics=Perplexity()).to_fp16()"
   ]
  },
  {
   "cell_type": "code",
   "execution_count": null,
   "metadata": {},
   "outputs": [],
   "source": [
    "learn.validate()"
   ]
  },
  {
   "cell_type": "code",
   "execution_count": null,
   "metadata": {},
   "outputs": [],
   "source": [
    "learn.path=Path('/')\n",
    "learn.lr_find()"
   ]
  },
  {
   "cell_type": "code",
   "execution_count": null,
   "metadata": {},
   "outputs": [],
   "source": [
    "learn.fit_one_cycle(20, 1e-4)"
   ]
  },
  {
   "cell_type": "code",
   "execution_count": null,
   "metadata": {},
   "outputs": [],
   "source": [
    "learn.recorder.plot_loss()"
   ]
  },
  {
   "cell_type": "code",
   "execution_count": null,
   "metadata": {},
   "outputs": [],
   "source": [
    "prompt = \"\\n uh \"\n",
    "prompt_ids = tokenizer.encode(prompt)\n",
    "inp = tensor(prompt_ids)[None].cuda()\n",
    "preds = learn.model.generate(inp,\n",
    "                             do_sample=True, \n",
    "                             max_length=90,\n",
    "                             min_length=5,\n",
    "                             top_k=40,\n",
    "                             num_return_sequences=1)\n",
    "tokenizer.decode(preds[0].cpu().tolist())\n"
   ]
  },
  {
   "cell_type": "code",
   "execution_count": null,
   "metadata": {},
   "outputs": [],
   "source": [
    "learn.export('/kaggle/working/21pilots.pkl')"
   ]
  },
  {
   "cell_type": "code",
   "execution_count": null,
   "metadata": {},
   "outputs": [],
   "source": [
    "#device=torch.device('cpu:0')\n",
    "#learn.model.to(device)"
   ]
  },
  {
   "cell_type": "code",
   "execution_count": null,
   "metadata": {},
   "outputs": [],
   "source": []
  },
  {
   "cell_type": "code",
   "execution_count": 31,
   "metadata": {},
   "outputs": [
    {
     "data": {
      "text/plain": [
       "(15450, 6)"
      ]
     },
     "execution_count": 31,
     "metadata": {},
     "output_type": "execute_result"
    }
   ],
   "source": [
    "with open('data/genius_lyrics_v2.csv', errors='ignore') as f:\n",
    "    data=pd.read_csv(f)\n",
    "data.shape"
   ]
  },
  {
   "cell_type": "code",
   "execution_count": 32,
   "metadata": {},
   "outputs": [
    {
     "data": {
      "text/html": [
       "<div>\n",
       "<style scoped>\n",
       "    .dataframe tbody tr th:only-of-type {\n",
       "        vertical-align: middle;\n",
       "    }\n",
       "\n",
       "    .dataframe tbody tr th {\n",
       "        vertical-align: top;\n",
       "    }\n",
       "\n",
       "    .dataframe thead th {\n",
       "        text-align: right;\n",
       "    }\n",
       "</style>\n",
       "<table border=\"1\" class=\"dataframe\">\n",
       "  <thead>\n",
       "    <tr style=\"text-align: right;\">\n",
       "      <th></th>\n",
       "      <th>Genre</th>\n",
       "      <th>Artist</th>\n",
       "      <th>Year</th>\n",
       "      <th>Album</th>\n",
       "      <th>Song</th>\n",
       "      <th>Lyrics</th>\n",
       "    </tr>\n",
       "  </thead>\n",
       "  <tbody>\n",
       "    <tr>\n",
       "      <th>0</th>\n",
       "      <td>Pop</td>\n",
       "      <td>Justin Bieber</td>\n",
       "      <td>2015</td>\n",
       "      <td>Purpose</td>\n",
       "      <td>Love Yourself</td>\n",
       "      <td>For all the times that you rained on my parade\\nAnd all the clubs you get in using my name\\nYou think you broke my heart, oh girl for goodness sake\\nYou think I'm cryin' on my own, well I ain't\\n\\nAnd I didn't wanna write a song\\n'Cause I didn't want anyone thinking I still care\\nI don't but, you still hit my phone up\\nAnd baby I'll be movin' on\\nAnd I think you should be somethin'\\nI don't wanna hold back\\nMaybe you should know that\\n\\nMy mama don't like you and she likes everyone\\nAnd I never like to admit that I was wrong\\nAnd I've been so caught up in my job, didn't see what's going on...</td>\n",
       "    </tr>\n",
       "    <tr>\n",
       "      <th>1</th>\n",
       "      <td>Pop</td>\n",
       "      <td>Justin Bieber</td>\n",
       "      <td>2015</td>\n",
       "      <td>Purpose</td>\n",
       "      <td>Sorry</td>\n",
       "      <td>You gotta go and get angry at all of my honesty\\nYou know I try but I don't do too well with apologies\\nI hope I don't run out of time, could someone call a referee?\\nCause I just need one more shot at forgiveness\\nI know you know that I made those mistakes maybe once or twice\\nBy once or twice I mean maybe a couple a hundred times\\nSo let me, oh let me redeem, oh redeem, oh myself tonight\\nCause I just need one more shot at second chances\\n\\nYeah, is it too late now to say sorry?\\nCause I'm missing more than just your body\\nIs it too late now to say sorry?\\nYeah I know that I let you down...</td>\n",
       "    </tr>\n",
       "    <tr>\n",
       "      <th>2</th>\n",
       "      <td>Pop</td>\n",
       "      <td>Justin Bieber</td>\n",
       "      <td>2012</td>\n",
       "      <td>Believe</td>\n",
       "      <td>As Long As You Love Me</td>\n",
       "      <td>As long as you love me\\nAs long as you love me\\nAs long as you love me\\n\\nWe're under pressure\\nSeven billion people in the world tryna fit in\\nKeep it together\\nSmile on your face, even though your heart is frowning\\nBut hey now, you know girl\\nWe both know it's a cruel world\\nBut I will take my chances\\n\\nAs long as you love me\\nWe could be starving, we could be homeless, we could be broke\\nAs long as you love me\\nI'll be your platinum, I'll be your silver, I'll be your gold\\nAs long as you love me\\nAs long as you love me, love me\\n\\nI'll be your soldier\\nFighting every second of the day...</td>\n",
       "    </tr>\n",
       "    <tr>\n",
       "      <th>3</th>\n",
       "      <td>Pop</td>\n",
       "      <td>Justin Bieber</td>\n",
       "      <td>2015</td>\n",
       "      <td>Purpose</td>\n",
       "      <td>What Do You Mean?</td>\n",
       "      <td>What do you mean? Oh, oh\\nWhen you nod your head yes, but you wanna say no\\nWhat do you mean? Hey-ey\\nWhen you don't want me to move, but you tell me to go\\nWhat do you mean?\\nOh, what do you mean?\\nSaid you're running outta time, what do you mean?\\nOh, oh, oh, what do you mean?\\nBetter make up your mind, what do you mean?\\n\\nYou’re so indecisive, what I’m saying\\nTryna catch the beat, make up your heart\\nDon't know if you're happy or complaining\\nDon't want for us to end, where do I start?\\n\\nFirst you wanna go to the left then you wanna turn right\\nWanna argue all day, make love all nigh...</td>\n",
       "    </tr>\n",
       "    <tr>\n",
       "      <th>4</th>\n",
       "      <td>Pop</td>\n",
       "      <td>Justin Bieber</td>\n",
       "      <td>2010</td>\n",
       "      <td>My World 2.0</td>\n",
       "      <td>Baby</td>\n",
       "      <td>Oh, woah\\nOh, woah\\nOh, woah\\n\\nYou know you love me, I know you care\\nJust shout whenever and I’ll be there\\nYou want my love, you want my heart\\nAnd we will never, ever, ever be apart\\nAre we an item? Girl, quit playing\\nWe’re just friends, what are you saying?\\nSaid \"There’s another,\" and looked right in my eyes\\nMy first love broke my heart for the first time, and I was like...\\n\\nBaby, baby, baby oh\\nLike baby, baby, baby no\\nLike baby, baby, baby no oh\\nThought you'd always be mine, mine\\nBaby, baby, baby oh\\nLike baby, baby, baby no\\nLike baby, baby, baby no oh\\nThought you’d always...</td>\n",
       "    </tr>\n",
       "  </tbody>\n",
       "</table>\n",
       "</div>"
      ],
      "text/plain": [
       "  Genre         Artist  Year         Album                    Song  \\\n",
       "0   Pop  Justin Bieber  2015       Purpose           Love Yourself   \n",
       "1   Pop  Justin Bieber  2015       Purpose                   Sorry   \n",
       "2   Pop  Justin Bieber  2012       Believe  As Long As You Love Me   \n",
       "3   Pop  Justin Bieber  2015       Purpose       What Do You Mean?   \n",
       "4   Pop  Justin Bieber  2010  My World 2.0                    Baby   \n",
       "\n",
       "                                                                                                                                                                                                                                                                                                                                                                                                                                                                                                                                                                                                                    Lyrics  \n",
       "0  For all the times that you rained on my parade\\nAnd all the clubs you get in using my name\\nYou think you broke my heart, oh girl for goodness sake\\nYou think I'm cryin' on my own, well I ain't\\n\\nAnd I didn't wanna write a song\\n'Cause I didn't want anyone thinking I still care\\nI don't but, you still hit my phone up\\nAnd baby I'll be movin' on\\nAnd I think you should be somethin'\\nI don't wanna hold back\\nMaybe you should know that\\n\\nMy mama don't like you and she likes everyone\\nAnd I never like to admit that I was wrong\\nAnd I've been so caught up in my job, didn't see what's going on...  \n",
       "1  You gotta go and get angry at all of my honesty\\nYou know I try but I don't do too well with apologies\\nI hope I don't run out of time, could someone call a referee?\\nCause I just need one more shot at forgiveness\\nI know you know that I made those mistakes maybe once or twice\\nBy once or twice I mean maybe a couple a hundred times\\nSo let me, oh let me redeem, oh redeem, oh myself tonight\\nCause I just need one more shot at second chances\\n\\nYeah, is it too late now to say sorry?\\nCause I'm missing more than just your body\\nIs it too late now to say sorry?\\nYeah I know that I let you down...  \n",
       "2  As long as you love me\\nAs long as you love me\\nAs long as you love me\\n\\nWe're under pressure\\nSeven billion people in the world tryna fit in\\nKeep it together\\nSmile on your face, even though your heart is frowning\\nBut hey now, you know girl\\nWe both know it's a cruel world\\nBut I will take my chances\\n\\nAs long as you love me\\nWe could be starving, we could be homeless, we could be broke\\nAs long as you love me\\nI'll be your platinum, I'll be your silver, I'll be your gold\\nAs long as you love me\\nAs long as you love me, love me\\n\\nI'll be your soldier\\nFighting every second of the day...  \n",
       "3  What do you mean? Oh, oh\\nWhen you nod your head yes, but you wanna say no\\nWhat do you mean? Hey-ey\\nWhen you don't want me to move, but you tell me to go\\nWhat do you mean?\\nOh, what do you mean?\\nSaid you're running outta time, what do you mean?\\nOh, oh, oh, what do you mean?\\nBetter make up your mind, what do you mean?\\n\\nYou’re so indecisive, what I’m saying\\nTryna catch the beat, make up your heart\\nDon't know if you're happy or complaining\\nDon't want for us to end, where do I start?\\n\\nFirst you wanna go to the left then you wanna turn right\\nWanna argue all day, make love all nigh...  \n",
       "4  Oh, woah\\nOh, woah\\nOh, woah\\n\\nYou know you love me, I know you care\\nJust shout whenever and I’ll be there\\nYou want my love, you want my heart\\nAnd we will never, ever, ever be apart\\nAre we an item? Girl, quit playing\\nWe’re just friends, what are you saying?\\nSaid \"There’s another,\" and looked right in my eyes\\nMy first love broke my heart for the first time, and I was like...\\n\\nBaby, baby, baby oh\\nLike baby, baby, baby no\\nLike baby, baby, baby no oh\\nThought you'd always be mine, mine\\nBaby, baby, baby oh\\nLike baby, baby, baby no\\nLike baby, baby, baby no oh\\nThought you’d always...  "
      ]
     },
     "execution_count": 32,
     "metadata": {},
     "output_type": "execute_result"
    }
   ],
   "source": [
    "data.head()"
   ]
  },
  {
   "cell_type": "code",
   "execution_count": 23,
   "metadata": {},
   "outputs": [],
   "source": [
    "!pip3 install jovian -q --upgrade\n",
    "import jovian"
   ]
  },
  {
   "cell_type": "code",
   "execution_count": 33,
   "metadata": {},
   "outputs": [
    {
     "data": {
      "application/javascript": [
       "window.require && require([\"base/js/namespace\"],function(Jupyter){Jupyter.notebook.save_checkpoint()})"
      ],
      "text/plain": [
       "<IPython.core.display.Javascript object>"
      ]
     },
     "metadata": {},
     "output_type": "display_data"
    },
    {
     "name": "stdout",
     "output_type": "stream",
     "text": [
      "[jovian] Attempting to save notebook..\n",
      "[jovian] Updating notebook \"karynaur/lyrics\" on https://jovian.ai/\n",
      "[jovian] Uploading notebook..\n",
      "[jovian] Capturing environment..\n"
     ]
    },
    {
     "name": "stderr",
     "output_type": "stream",
     "text": [
      "[jovian] Error: Failed to read Anaconda environment using command: \"conda env export -n base --no-builds\"\n",
      "[jovian] Error: Failed to read pip environment using command: \"pip --disable-pip-version-check freeze\"\n"
     ]
    },
    {
     "name": "stdout",
     "output_type": "stream",
     "text": [
      "[jovian] Committed successfully! https://jovian.ai/karynaur/lyrics\n"
     ]
    },
    {
     "data": {
      "text/plain": [
       "'https://jovian.ai/karynaur/lyrics'"
      ]
     },
     "execution_count": 33,
     "metadata": {},
     "output_type": "execute_result"
    }
   ],
   "source": [
    "jovian.commit()"
   ]
  },
  {
   "cell_type": "code",
   "execution_count": 35,
   "metadata": {},
   "outputs": [
    {
     "name": "stdout",
     "output_type": "stream",
     "text": [
      "--2021-03-06 21:41:21--  https://raw.github.com/adigoryl/Styled-Lyrics-Generator-GPT2/blob/master/datasets/genius_lyrics_v2.csv\n",
      "Resolving raw.github.com (raw.github.com)... 185.199.110.133, 185.199.109.133, 185.199.108.133, ...\n",
      "Connecting to raw.github.com (raw.github.com)|185.199.110.133|:443... connected.\n",
      "HTTP request sent, awaiting response... 301 Moved Permanently\n",
      "Location: https://raw.githubusercontent.com/adigoryl/Styled-Lyrics-Generator-GPT2/blob/master/datasets/genius_lyrics_v2.csv [following]\n",
      "--2021-03-06 21:41:22--  https://raw.githubusercontent.com/adigoryl/Styled-Lyrics-Generator-GPT2/blob/master/datasets/genius_lyrics_v2.csv\n",
      "Resolving raw.githubusercontent.com (raw.githubusercontent.com)... 185.199.108.133, 185.199.111.133, 185.199.110.133, ...\n",
      "Connecting to raw.githubusercontent.com (raw.githubusercontent.com)|185.199.108.133|:443... connected.\n",
      "HTTP request sent, awaiting response... 404 Not Found\n",
      "2021-03-06 21:41:23 ERROR 404: Not Found.\n",
      "\n"
     ]
    }
   ],
   "source": [
    "!wget https://raw.github.com/adigoryl/Styled-Lyrics-Generator-GPT2/blob/master/datasets/genius_lyrics_v2.csv"
   ]
  },
  {
   "cell_type": "code",
   "execution_count": null,
   "metadata": {},
   "outputs": [],
   "source": []
  }
 ],
 "metadata": {
  "kernelspec": {
   "display_name": "Python 3",
   "language": "python",
   "name": "python3"
  },
  "language_info": {
   "codemirror_mode": {
    "name": "ipython",
    "version": 3
   },
   "file_extension": ".py",
   "mimetype": "text/x-python",
   "name": "python",
   "nbconvert_exporter": "python",
   "pygments_lexer": "ipython3",
   "version": "3.8.5"
  }
 },
 "nbformat": 4,
 "nbformat_minor": 4
}
