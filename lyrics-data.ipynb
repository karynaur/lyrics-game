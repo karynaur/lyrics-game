{
 "cells": [
  {
   "cell_type": "code",
   "execution_count": 3,
   "metadata": {},
   "outputs": [],
   "source": [
    "import json"
   ]
  },
  {
   "cell_type": "code",
   "execution_count": 4,
   "metadata": {},
   "outputs": [],
   "source": [
    "with open('lyrics.json','rb') as f:\n",
    "    data=json.load(f)"
   ]
  },
  {
   "cell_type": "code",
   "execution_count": 5,
   "metadata": {},
   "outputs": [
    {
     "name": "stdout",
     "output_type": "stream",
     "text": [
      "0 Justin Bieber\n",
      "1 Justin Bieber\n",
      "2 Justin Bieber\n",
      "3 Justin Bieber\n",
      "4 Justin Bieber\n",
      "5 Justin Bieber\n",
      "6 Justin Bieber\n",
      "7 Justin Bieber\n",
      "8 Justin Bieber\n",
      "9 Adele\n",
      "10 Adele\n",
      "11 Adele\n",
      "12 Adele\n",
      "13 Adele\n",
      "14 Adele\n",
      "15 Adele\n",
      "16 Drake\n",
      "17 Drake\n",
      "18 Drake\n",
      "19 Drake\n",
      "20 Drake\n",
      "21 Drake\n",
      "22 The Weeknd\n",
      "23 The Weeknd\n",
      "24 The Weeknd\n",
      "25 The Weeknd\n",
      "26 The Weeknd\n",
      "27 The Weeknd\n",
      "28 Taylor Swift\n",
      "29 Taylor Swift\n",
      "30 Taylor Swift\n",
      "31 Taylor Swift\n",
      "32 Taylor Swift\n",
      "33 Taylor Swift\n",
      "34 Ariana Grande\n",
      "35 Ariana Grande\n",
      "36 Ariana Grande\n",
      "37 Ed Sheeran\n",
      "38 Ed Sheeran\n",
      "39 Ed Sheeran\n",
      "40 Ed Sheeran\n",
      "41 Ed Sheeran\n",
      "42 Ed Sheeran\n",
      "43 Ed Sheeran\n",
      "44 Coldplay\n",
      "45 Coldplay\n",
      "46 Coldplay\n",
      "47 Coldplay\n",
      "48 Coldplay\n",
      "49 Coldplay\n",
      "50 Coldplay\n",
      "51 Miley Cyrus\n",
      "52 Miley Cyrus\n",
      "53 Miley Cyrus\n",
      "54 Miley Cyrus\n",
      "55 Miley Cyrus\n",
      "56 Miley Cyrus\n",
      "57 Miley Cyrus\n",
      "58 Backstreet Boys\n",
      "59 Backstreet Boys\n",
      "60 Backstreet Boys\n",
      "61 Backstreet Boys\n",
      "62 Backstreet Boys\n",
      "63 Backstreet Boys\n",
      "64 Backstreet Boys\n",
      "65 Eminem\n",
      "66 Eminem\n",
      "67 Eminem\n",
      "68 Eminem\n",
      "69 Eminem\n",
      "70 Eminem\n",
      "71 Eminem\n",
      "72 Kanye West\n",
      "73 Kanye West\n",
      "74 Kanye West\n",
      "75 Kanye West\n",
      "76 Kanye West\n",
      "77 Kanye West\n",
      "78 Kanye West\n",
      "79 21 Savage\n",
      "80 21 Savage\n",
      "81 21 Savage\n",
      "82 Linkin Park\n",
      "83 Linkin Park\n",
      "84 Linkin Park\n",
      "85 Linkin Park\n",
      "86 Linkin Park\n",
      "87 Linkin Park\n",
      "88 Linkin Park\n",
      "89 ​twenty one pilots\n",
      "90 ​twenty one pilots\n",
      "91 ​twenty one pilots\n",
      "92 ​twenty one pilots\n",
      "93 ​twenty one pilots\n",
      "94 ​twenty one pilots\n",
      "95 ​twenty one pilots\n"
     ]
    }
   ],
   "source": [
    "for i in range(96):\n",
    "    print(i,data[i][0])"
   ]
  },
  {
   "cell_type": "code",
   "execution_count": 4,
   "metadata": {},
   "outputs": [
    {
     "data": {
      "text/plain": [
       "(4, 4)"
      ]
     },
     "execution_count": 4,
     "metadata": {},
     "output_type": "execute_result"
    }
   ],
   "source": [
    "#each element is a list of 4 elements\n",
    "len(data[0]),len(data[1])"
   ]
  },
  {
   "cell_type": "code",
   "execution_count": 6,
   "metadata": {},
   "outputs": [
    {
     "data": {
      "text/plain": [
       "'Justin Bieber'"
      ]
     },
     "execution_count": 6,
     "metadata": {},
     "output_type": "execute_result"
    }
   ],
   "source": [
    "data[0][0]#first element in the sublist is the artist"
   ]
  },
  {
   "cell_type": "code",
   "execution_count": 7,
   "metadata": {},
   "outputs": [
    {
     "data": {
      "text/plain": [
       "'Love Yourself'"
      ]
     },
     "execution_count": 7,
     "metadata": {},
     "output_type": "execute_result"
    }
   ],
   "source": [
    "data[0][1]#second is the song "
   ]
  },
  {
   "cell_type": "code",
   "execution_count": 34,
   "metadata": {},
   "outputs": [
    {
     "data": {
      "text/plain": [
       "['Drake',\n",
       " 'One Dance',\n",
       " [\"Baby, I like your style\\nGrips on your waist, front way, back way\\nYou know that I don't play\\nStreets not safe but I never run away\\n\",\n",
       "  \"\\nGrips on your waist, front way, back way\\nYou know that I don't play\\nStreets not safe but I never run away\\nEven when I'm away\\n\",\n",
       "  \"Grips on your waist, front way, back way\\nYou know that I don't play\\nStreets not safe but I never run away\\nEven when I'm away\\n\",\n",
       "  \"You know that I don't play\\nStreets not safe but I never run away\\nEven when I'm away\\nOti, oti\\n\",\n",
       "  \"Streets not safe but I never run away\\nEven when I'm away\\nOti, oti\\nThere's never much love when we go OT\\n\",\n",
       "  \"Even when I'm away\\nOti, oti\\nThere's never much love when we go OT\\nI pray to make it back in one piece\\n\",\n",
       "  \"Oti, oti\\nThere's never much love when we go OT\\nI pray to make it back in one piece\\nI pray, I pray\\n\",\n",
       "  \"There's never much love when we go OT\\nI pray to make it back in one piece\\nI pray, I pray\\nThat's why I need a one dance\\n\",\n",
       "  \"I pray to make it back in one piece\\nI pray, I pray\\nThat's why I need a one dance\\nGot a Hennessy in my hand\\n\",\n",
       "  \"I pray, I pray\\nThat's why I need a one dance\\nGot a Hennessy in my hand\\nOne more time 'fore I go\\n\",\n",
       "  \"\\nThat's why I need a one dance\\nGot a Hennessy in my hand\\nOne more time 'fore I go\\nHigher powers taking a hold on me\\n\",\n",
       "  \"That's why I need a one dance\\nGot a Hennessy in my hand\\nOne more time 'fore I go\\nHigher powers taking a hold on me\\n\",\n",
       "  \"Got a Hennessy in my hand\\nOne more time 'fore I go\\nHigher powers taking a hold on me\\nI need a one dance\\n\",\n",
       "  \"One more time 'fore I go\\nHigher powers taking a hold on me\\nI need a one dance\\nGot a Hennessy in my hand\\n\",\n",
       "  \"Higher powers taking a hold on me\\nI need a one dance\\nGot a Hennessy in my hand\\nOne more time 'fore I go\\n\",\n",
       "  \"I need a one dance\\nGot a Hennessy in my hand\\nOne more time 'fore I go\\nHigher powers taking a hold on me\\n\",\n",
       "  \"Got a Hennessy in my hand\\nOne more time 'fore I go\\nHigher powers taking a hold on me\\nBaby, I like your style\\n\",\n",
       "  \"One more time 'fore I go\\nHigher powers taking a hold on me\\nBaby, I like your style\\nStrength and guidance\\n\",\n",
       "  \"Higher powers taking a hold on me\\nBaby, I like your style\\nStrength and guidance\\nAll that I'm wishing for my friends\\n\",\n",
       "  \"\\nBaby, I like your style\\nStrength and guidance\\nAll that I'm wishing for my friends\\nNobody makes it from my ends\\n\",\n",
       "  \"Baby, I like your style\\nStrength and guidance\\nAll that I'm wishing for my friends\\nNobody makes it from my ends\\n\",\n",
       "  \"\\nStrength and guidance\\nAll that I'm wishing for my friends\\nNobody makes it from my ends\\nI had to bust up the silence\\n\",\n",
       "  \"Strength and guidance\\nAll that I'm wishing for my friends\\nNobody makes it from my ends\\nI had to bust up the silence\\n\",\n",
       "  \"All that I'm wishing for my friends\\nNobody makes it from my ends\\nI had to bust up the silence\\nYou know you gotta stick by me\\n\",\n",
       "  'Nobody makes it from my ends\\nI had to bust up the silence\\nYou know you gotta stick by me\\nSoon as you see the text, reply me\\n',\n",
       "  \"I had to bust up the silence\\nYou know you gotta stick by me\\nSoon as you see the text, reply me\\nI don't wanna spend time fighting\\n\",\n",
       "  \"You know you gotta stick by me\\nSoon as you see the text, reply me\\nI don't wanna spend time fighting\\nWe've got no time\\n\",\n",
       "  \"Soon as you see the text, reply me\\nI don't wanna spend time fighting\\nWe've got no time\\nAnd that's why I need a one dance\\n\",\n",
       "  \"I don't wanna spend time fighting\\nWe've got no time\\nAnd that's why I need a one dance\\nGot a Hennessy in my hand\\n\",\n",
       "  \"We've got no time\\nAnd that's why I need a one dance\\nGot a Hennessy in my hand\\nOne more time 'fore I go\\n\",\n",
       "  \"\\nAnd that's why I need a one dance\\nGot a Hennessy in my hand\\nOne more time 'fore I go\\nHigher powers taking a hold on me\\n\",\n",
       "  \"And that's why I need a one dance\\nGot a Hennessy in my hand\\nOne more time 'fore I go\\nHigher powers taking a hold on me\\n\",\n",
       "  \"Got a Hennessy in my hand\\nOne more time 'fore I go\\nHigher powers taking a hold on me\\nI need a one dance\\n\",\n",
       "  \"One more time 'fore I go\\nHigher powers taking a hold on me\\nI need a one dance\\nGot a Hennessy in my hand\\n\",\n",
       "  \"Higher powers taking a hold on me\\nI need a one dance\\nGot a Hennessy in my hand\\nOne more time 'fore I go\\n\",\n",
       "  \"I need a one dance\\nGot a Hennessy in my hand\\nOne more time 'fore I go\\nHigher powers taking a hold on me\\n\",\n",
       "  \"Got a Hennessy in my hand\\nOne more time 'fore I go\\nHigher powers taking a hold on me\\nGot a pretty girl and she love me long time\\n\",\n",
       "  \"One more time 'fore I go\\nHigher powers taking a hold on me\\nGot a pretty girl and she love me long time\\nWine it, wine it, very long time\\n\",\n",
       "  'Higher powers taking a hold on me\\nGot a pretty girl and she love me long time\\nWine it, wine it, very long time\\nOh yeah, very long time\\n',\n",
       "  '\\nGot a pretty girl and she love me long time\\nWine it, wine it, very long time\\nOh yeah, very long time\\nBack up, back up, back up and wine it\\n',\n",
       "  'Got a pretty girl and she love me long time\\nWine it, wine it, very long time\\nOh yeah, very long time\\nBack up, back up, back up and wine it\\n',\n",
       "  'Wine it, wine it, very long time\\nOh yeah, very long time\\nBack up, back up, back up and wine it\\nBack up, back up and wine it, girl\\n',\n",
       "  'Oh yeah, very long time\\nBack up, back up, back up and wine it\\nBack up, back up and wine it, girl\\nBack up, back up, back up and wine it\\n',\n",
       "  'Back up, back up, back up and wine it\\nBack up, back up and wine it, girl\\nBack up, back up, back up and wine it\\nOh yeah, very long time\\n',\n",
       "  'Back up, back up and wine it, girl\\nBack up, back up, back up and wine it\\nOh yeah, very long time\\nBack, up, back up and wine it, girl\\n',\n",
       "  'Back up, back up, back up and wine it\\nOh yeah, very long time\\nBack, up, back up and wine it, girl\\nTell me\\n',\n",
       "  'Oh yeah, very long time\\nBack, up, back up and wine it, girl\\nTell me\\nI need to know, where do you wanna go?\\n',\n",
       "  \"Back, up, back up and wine it, girl\\nTell me\\nI need to know, where do you wanna go?\\nCause if you're down, I'll take it slow\\n\",\n",
       "  \"\\nTell me\\nI need to know, where do you wanna go?\\nCause if you're down, I'll take it slow\\nMake you lose control\\n\",\n",
       "  \"Tell me\\nI need to know, where do you wanna go?\\nCause if you're down, I'll take it slow\\nMake you lose control\\n\",\n",
       "  \"I need to know, where do you wanna go?\\nCause if you're down, I'll take it slow\\nMake you lose control\\nWhere, where, where\\n\",\n",
       "  \"Cause if you're down, I'll take it slow\\nMake you lose control\\nWhere, where, where\\nWhere, where, where, where\\n\",\n",
       "  'Make you lose control\\nWhere, where, where\\nWhere, where, where, where\\nOh yeah, very long time\\n',\n",
       "  'Where, where, where\\nWhere, where, where, where\\nOh yeah, very long time\\nWhere, where, where\\n',\n",
       "  'Where, where, where, where\\nOh yeah, very long time\\nWhere, where, where\\nBack, up, back up and wine it, girl\\n',\n",
       "  'Oh yeah, very long time\\nWhere, where, where\\nBack, up, back up and wine it, girl\\nWhere, where, where, where\\n',\n",
       "  \"Where, where, where\\nBack, up, back up and wine it, girl\\nWhere, where, where, where\\nCause if you're down\\n\",\n",
       "  \"Back, up, back up and wine it, girl\\nWhere, where, where, where\\nCause if you're down\\nBack up, back up and\\n\",\n",
       "  \"Where, where, where, where\\nCause if you're down\\nBack up, back up and\\nCause if you're down\\n\",\n",
       "  \"Cause if you're down\\nBack up, back up and\\nCause if you're down\\nBack up, back up and\\n\",\n",
       "  \"Back up, back up and\\nCause if you're down\\nBack up, back up and\\nCause if you're down\\n\",\n",
       "  \"Cause if you're down\\nBack up, back up and\\nCause if you're down\\nBack up, back up and\\n\",\n",
       "  \"Back up, back up and\\nCause if you're down\\nBack up, back up and\\nI need a one dance\\n\",\n",
       "  \"Cause if you're down\\nBack up, back up and\\nI need a one dance\\nGot a Hennessy in my hand\\n\",\n",
       "  \"Back up, back up and\\nI need a one dance\\nGot a Hennessy in my hand\\nOne more time 'fore I go\\n\",\n",
       "  \"\\nI need a one dance\\nGot a Hennessy in my hand\\nOne more time 'fore I go\\nHigher powers taking a hold on me\\n\",\n",
       "  \"I need a one dance\\nGot a Hennessy in my hand\\nOne more time 'fore I go\\nHigher powers taking a hold on me\\n\",\n",
       "  \"Got a Hennessy in my hand\\nOne more time 'fore I go\\nHigher powers taking a hold on me\\nI need a one dance\\n\",\n",
       "  \"One more time 'fore I go\\nHigher powers taking a hold on me\\nI need a one dance\\nGot a Hennessy in my hand\\n\"],\n",
       " [\"Baby, I like your style\\nGrips on your waist, front way, back way\\nThis is how you know when I'm with some new women\\n'Cause when they come through, you tell me I need to stay\\nDon't be upset, cause this shit get you down\\n\",\n",
       "  \"\\nGrips on your waist, front way, back way\\nYou know that I don't play\\nIf they love me, I am the only one who can help\\nIt's a reflection of me not loving myself enough, don't you see? You said You can't really call me\",\n",
       "  \"Grips on your waist, front way, back way\\nYou know that I don't play\\nAnd you're so nervous, you're the type to jump out to it\\nBut you still got all these girls, yeah, yeah\\nNo big deal, all I do is play and learn\",\n",
       "  \"You know that I don't play\\nStreets not safe but I never run away\\nI'm a city boy\\nI got people's love from around that city, we both know who it is\\n\",\n",
       "  \"Streets not safe but I never run away\\nEven when I'm away\\nStarted from the bottom, now we're here\\nNow I'm here, baby, you know\\nWho don't love to see somebody make mistakes?\\n\",\n",
       "  \"Even when I'm away\\nOti, oti\\nThere's nothin' we'll do, we just like you\\nGirl I'm not down, I'm down, I'm down, I'm down, I'm down\\n\",\n",
       "  \"Oti, oti\\nThere's never much love when we go OT\\nI just walked out on stage, just played 'til some girls stopped me to pick up\\nGot some shit I needed\\nFuck Gothafuckas that's why my head is swivelin'\\n\",\n",
       "  \"There's never much love when we go OT\\nI pray to make it back in one piece\\nSay your name, say your name, make your way to God, say my name\\nYeah, yeah, yeah\\nI'm talkin' through you, I'm just sayin' 'b\",\n",
       "  \"I pray to make it back in one piece\\nI pray, I pray\\nMy head is spinnin', I can barely move\\nLike I'm talking shit, you just say 'bout it\\n\",\n",
       "  \"I pray, I pray\\nThat's why I need a one dance\\nAnd I gettin' threats when she tryna take the rap\\nThe sound of a fake woman in bed with a cock like that really make you wanna see me\\nThe real thing, the whole time, oh\\n\",\n",
       "  \"\\nThat's why I need a one dance\\nGot a Hennessy in my hand\\nAnd when she say she love me, I say hell no\\nAint no other way, you see through me\\nWhen they wanna know, we know\\n\",\n",
       "  \"That's why I need a one dance\\nGot a Hennessy in my hand\\nYeah, I made a lot of mistakes that I didn't make last night, so if that's the case, then I've seen the shit\\nAnd that's why I need a one dance\\nI guess that's\",\n",
       "  \"Got a Hennessy in my hand\\nOne more time 'fore I go\\nI'm not worried, I'll admit it\\nI got a lot more to do\\n\",\n",
       "  \"One more time 'fore I go\\nHigher powers taking a hold on me\\nFuck what you're saying\\nSay you love me, say you love me, say you love me, we gon go\\n\",\n",
       "  \"Higher powers taking a hold on me\\nI need a one dance\\nI don't want this shit to end\\nStarted from the bottom, now the whole team here, nigga\\n\",\n",
       "  \"I need a one dance\\nGot a Hennessy in my hand\\nShe know, she know\\nBut she know she fucked up this game better\\nThey ain't tryna kick it outta me\\n\",\n",
       "  \"Got a Hennessy in my hand\\nOne more time 'fore I go\\nNow that my feet are spinnin and I'm not in it, I'm way too good at it\\nSo I'm at it now\\nThe girl you loved, that you love\\n\",\n",
       "  \"One more time 'fore I go\\nHigher powers taking a hold on me\\nGirl, look at everything I've done, look at me now\\nThey don't know that I won't ever get down again\\nYou say you love me, then you say you hate me\\n\",\n",
       "  \"Higher powers taking a hold on me\\nBaby, I like your style\\nAre you ready? Are you ready?\\nYeah, I guess this shit is it\\nWe don't have much left to discuss except maybe get some wine\\n\",\n",
       "  \"\\nBaby, I like your style\\nStrength and guidance\\nAnd now you're here, you two just blowing it, blowing it like a soldier\\nOh-oh, you know, we all get it\\nWeen't like to see 'em bounce, we fuckin' here for real\\n\",\n",
       "  \"Baby, I like your style\\nStrength and guidance\\nThat shit don't belong to me\\nThey like me so much, they want somethin' for me\\nI need a break, I need some change\\n\",\n",
       "  \"\\nStrength and guidance\\nAll that I'm wishing for my friends\\nAnd, no, nah, nah, that's just some crazy shit like that! You know how that should go, girl\\nI think we should say thank you a million times\\nNow she know, she's on Twitter\",\n",
       "  \"Strength and guidance\\nAll that I'm wishing for my friends\\nAww that's the face of your niggas life\\n'Cause I ain't the only one feeling it\\nI'm tryna turn 'em all into somethin'\\n\",\n",
       "  \"All that I'm wishing for my friends\\nNobody makes it from my ends\\nThat's a whole lot on this nigga, I just need that perspective\\nI just want to take your love for granted (yeah)\\nMy whole crew's gone, yeah yeah\\n\",\n",
       "  'Nobody makes it from my ends\\nI had to bust up the silence\\nI had a dream, you had a dream\\nI know a nigga, I know a nigga\\nIf you think women need girls\\n',\n",
       "  \"I had to bust up the silence\\nYou know you gotta stick by me\\nSay my name\\nI don't think we've done a shit over\\nI'm going in a new position\\n\",\n",
       "  \"You know you gotta stick by me\\nSoon as you see the text, reply me\\nUh, how 'bout now, what's up?\\nIf it's one thing I do\\nI was a bit worried, but just hold on, we're going home\\n\",\n",
       "  \"Soon as you see the text, reply me\\nI don't wanna spend time fighting\\nCause you know how that should go, yeah\\nI'm a bit scared that someone you love might find you\\nI don't get it every day like a regular man\\n\",\n",
       "  \"I don't wanna spend time fighting\\nWe've got no time\\nOh, I know you heard what's been said\\nGirl, you know it\\nI'm too good to you\\n\",\n",
       "  \"We've got no time\\nAnd that's why I need a one dance\\nCause it's never too late to stop fighting\\nI don't wanna leave without some assistance, I only got one dance\\nI guess I do it better with less effort than I put in\\n\",\n",
       "  \"\\nAnd that's why I need a one dance\\nGot a Hennessy in my hand\\nA slice of heaven gets paid just to be there for you\\nI get paid fifty dollars for each and every song that I do\\nBut that's when it really sink in for me\\n\",\n",
       "  \"And that's why I need a one dance\\nGot a Hennessy in my hand\\nI'm way too good looking, I'm on a mission\\nI need your assistance, girl, I'll let you in on a secret\\nIf you need me, come through, come through\\n\",\n",
       "  \"Got a Hennessy in my hand\\nOne more time 'fore I go\\nNow the conversation ain't on my own\\nAnd just to give you my blessings\\nOh-oh, yeah, yeah\\n\",\n",
       "  \"One more time 'fore I go\\nHigher powers taking a hold on me\\nYeah, I don't smoke, I'm too busy swangin'.\\nI need someone that's humble enough to keep things up, but not so humble that I run the show\\nI'm just saying you don't\",\n",
       "  \"Higher powers taking a hold on me\\nI need a one dance\\nMy soul is intact, yeah. They keep me focused, I'm backstage like no one has ever seen me before\\nYeah, back at home with my uncle and they tell me we're gonna kill this shit for the record\\n\",\n",
       "  \"I need a one dance\\nGot a Hennessy in my hand\\nLike a boss girl, gotta stay at my place (Wanna come through)\\nStarted by the way you speak my name\\nIt's up to you to say my name (My name is)\\n\",\n",
       "  \"Got a Hennessy in my hand\\nOne more time 'fore I go\\nThey say the city that you come from, it's a good city\\nI ain't been sleeping on you, I know you love me\\nThis shit is so different\\n\",\n",
       "  \"One more time 'fore I go\\nHigher powers taking a hold on me\\nThe girl you loved so long ago\\nYou said you'd die for me, now you can't\\nCry for me, cry for me, say you'll die for me\\n\",\n",
       "  \"Higher powers taking a hold on me\\nGot a pretty girl and she love me long time\\nDang, I got a girl from the Bay Area, she's good like my uncle\\nYou still get us on the high, you still get us on the hard times\\n\",\n",
       "  \"\\nGot a pretty girl and she love me long time\\nWine it, wine it, very long time\\n'Cause I'ma make it, I'm a true believer\\nYeah, they know, that's all me for real\\nShe's the youngest girl in my class, fuck no one\",\n",
       "  \"Got a pretty girl and she love me long time\\nWine it, wine it, very long time\\nStarted from the bottom, now we're here\\nLike a mothafuckin' legend, you deserve more\\n\",\n",
       "  'Wine it, wine it, very long time\\nOh yeah, very long time\\nWe still getting hits, girl, shit is not fair\\nGot niggas that I just want, I want everybody to know that\\n',\n",
       "  \"Oh yeah, very long time\\nBack up, back up, back up and wine it\\nYeah\\nThat they don't really remember me long enough to remember me\\nAyy, got a lot of people talking to me like that\\n\",\n",
       "  \"Back up, back up, back up and wine it\\nBack up, back up and wine it, girl\\nA lot of blood in our veins\\nI think I'm just like niggas on the beat\\n\",\n",
       "  \"Back up, back up and wine it, girl\\nBack up, back up, back up and wine it\\nYou say you love me, then you come across as a weak brat\\nNo one else, just us\\nAnd you know that I could've made you feel at home\\n\",\n",
       "  \"Back up, back up, back up and wine it\\nOh yeah, very long time\\nShe put me in this position like I'm in jail for the record\\nThere's no need for me to explain myself\\n\",\n",
       "  \"Oh yeah, very long time\\nBack, up, back up and wine it, girl\\nYeah, it's the way, you know?\\nYou know, I'm just a regular girl that I sit at, text me when I want to\\nOh yeah, you know, I'm just like\",\n",
       "  \"Back, up, back up and wine it, girl\\nTell me\\nI'm not judging you, I just say I know y'all alright\\nLike I'm the type to drop dead, yeah\\n\",\n",
       "  \"\\nTell me\\nI need to know, where do you wanna go?\\nSay you'll never leave, never come back.\\nYeah when I need ya\\nYou know my love life\\n\",\n",
       "  \"Tell me\\nI need to know, where do you wanna go?\\nAnd if my brogramming is over I gots to get you\\nI'll be there for you\\nThe world cannot be this different\\n\",\n",
       "  \"I need to know, where do you wanna go?\\nCause if you're down, I'll take it slow\\nAnd I said I would let you live\\nYou know it, you know it\\nThe type that could hold up on you\\n\",\n",
       "  \"Cause if you're down, I'll take it slow\\nMake you lose control\\nThat nigga that gave you the money, gave you the head start\\nDon't make me do it, don't do it, you ain't done this before\\nYou should be a legend like that\\n\",\n",
       "  \"Make you lose control\\nWhere, where, where\\nNigga, where, where, where\\nAll these nigga's taking shots for them\\nNiggas tryna hold me back, that's just who they really is\\n\",\n",
       "  \"Where, where, where\\nWhere, where, where, where\\nCause we ain't even know, you know it\\nOh ho\\nFuckin', they tryna drain my energy and I'm a drain on ya\\n\",\n",
       "  \"Where, where, where, where\\nOh yeah, very long time\\n'Cause you know it, I know it\\nIt's time to pull up and come in and get it\\nYou had so much fun with me, y'all can afford it\\n\",\n",
       "  \"Oh yeah, very long time\\nWhere, where, where\\nSo I'm down for the record and if needed I'll be here\\nAnd she want my love forever\\nNiggas just not the same, oh\\n\",\n",
       "  'Where, where, where\\nBack, up, back up and wine it, girl\\nMy time with my boys, yuh, you should be with me\\nI got my priorities all mapped out\\n',\n",
       "  \"Back, up, back up and wine it, girl\\nWhere, where, where, where\\nGirl, you gotta take your time, man, we need it all, we like it all\\nThat's just some bad blood from the other side\\nOh ho, I guess that's just the motion\",\n",
       "  \"Where, where, where, where\\nCause if you're down\\nAnd she rode it like a soldier\\nWorst behavior, worst behavior\\nGigginess always at it, I guess that's just the motion\\n\",\n",
       "  \"Cause if you're down\\nBack up, back up and\\nAll these years later\\nSo long as I'm awake, this shit goin' over my head\\n\",\n",
       "  \"Back up, back up and\\nCause if you're down\\nYeah, we know (yeah, yeah)\\nI'm down, yeah, you alright\\nI love it, man, I love it too much\\n\",\n",
       "  \"Cause if you're down\\nBack up, back up and\\nOh ho, I knew what I was talking about then\\nYeah, yeah, yeah, yeah\\n'Cause she love me anyway\\n\",\n",
       "  \"Back up, back up and\\nCause if you're down\\nI'ma leave this nigga's party alone, they're out with the crew\\nI'm goin' down to Texas for some new shit like that\\nBut you know how that should go, boy! Guess that's because I don\",\n",
       "  \"Cause if you're down\\nBack up, back up and\\nWhen you're drunk on something\\nYeah, that's for sure, I ain't the same\\nAnd I hope you never had to learn, I guess that's just the motion\\n\",\n",
       "  \"Back up, back up and\\nI need a one dance\\nI love ya so damn much\\nNaked pictures, I'ma take that picture\\nI had a baby and spent it at your apartment\\n\",\n",
       "  \"\\nI need a one dance\\nGot a Hennessy in my hand\\nI'd be the type that can get to the bank and tell 'em where I got it, where my money is at, who's getting it and why?\\nI just had to go back out and check my phone for it\",\n",
       "  \"I need a one dance\\nGot a Hennessy in my hand\\nShe said 'Yeah, it's yours, yeah'\\nThat I really like\\nI can't even call it 'time'\\n\",\n",
       "  \"Got a Hennessy in my hand\\nOne more time 'fore I go\\nNow that I'm on a relationship, you gon' get me somethin'\\nYeah\\nCame up, I came up, I came up, came up\\n\",\n",
       "  \"One more time 'fore I go\\nHigher powers taking a hold on me\\nI had no idea, they just took a picture of me\\nYou the way that I see the world\\nI'm just sayin', Baby, why won't you live for me?\\n\"]]"
      ]
     },
     "execution_count": 34,
     "metadata": {},
     "output_type": "execute_result"
    }
   ],
   "source": [
    "data[1]"
   ]
  },
  {
   "cell_type": "code",
   "execution_count": null,
   "metadata": {},
   "outputs": [],
   "source": []
  }
 ],
 "metadata": {
  "kernelspec": {
   "display_name": "Python 3",
   "language": "python",
   "name": "python3"
  },
  "language_info": {
   "codemirror_mode": {
    "name": "ipython",
    "version": 3
   },
   "file_extension": ".py",
   "mimetype": "text/x-python",
   "name": "python",
   "nbconvert_exporter": "python",
   "pygments_lexer": "ipython3",
   "version": "3.8.5"
  }
 },
 "nbformat": 4,
 "nbformat_minor": 4
}
